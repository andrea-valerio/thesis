{
 "cells": [
  {
   "cell_type": "markdown",
   "metadata": {},
   "source": [
    "## 3 - Data Cleaning"
   ]
  },
  {
   "cell_type": "markdown",
   "metadata": {},
   "source": [
    "##### Imports"
   ]
  },
  {
   "cell_type": "code",
   "execution_count": 1,
   "metadata": {},
   "outputs": [],
   "source": [
    "import os\n",
    "import pandas as pd\n",
    "import numpy as np\n",
    "import dask.dataframe as dd\n",
    "import dask.array as da     #scalable parallel computing\n",
    "import json\n",
    "import warnings\n",
    "import ast"
   ]
  },
  {
   "cell_type": "markdown",
   "metadata": {},
   "source": [
    "##### Data Loading"
   ]
  },
  {
   "cell_type": "code",
   "execution_count": 3,
   "metadata": {},
   "outputs": [],
   "source": [
    "# Load ddfs into dictionary (exception for 'all_surf_pos', df)\n",
    "root_dir = './aggregated_data'\n",
    "def load_data(root_dir, exception=True):    # Get csv file reads into one dictionary\n",
    "    data = {}\n",
    "    for subdir, _, files in os.walk(root_dir):\n",
    "        for file in files:\n",
    "            file_path = os.path.join(subdir, file)\n",
    "            file_name = os.path.splitext(file)[0]   #file name without '.csv'\n",
    "            if file.endswith('.csv') and file != 'all_surf_positions_HiDrive_Studie2.csv':\n",
    "                data[file_name] = dd.read_csv(file_path)    #read and attach to dict\n",
    "            elif exception and file == 'all_surf_positions_HiDrive_Studie2.csv':\n",
    "                data [file_name] = pd.read_csv(file_path, converters=converters)    #read as normal and attach to dict\n",
    "    return data\n",
    "def parse(filedata): # Manually read the column\n",
    "    output = []\n",
    "    for line in filedata.split('\\n'): # split into lines\n",
    "        line = line.strip().rstrip(']').lstrip('[') #remove whitespace and brackets\n",
    "        if not line:  \n",
    "            continue    #skip empty lines\n",
    "        line = line.split() #split into cell\n",
    "        row = []\n",
    "        for cell in line:\n",
    "            cell = cell.strip()     #remove whitespace\n",
    "            if not cell.strip():\n",
    "                continue    #skip empty cells\n",
    "            row.append(float(cell)) #convert to float and add\n",
    "        output.append(row)\n",
    "    return output\n",
    "converters = {\n",
    "    \"img_to_surf_trans\": parse,\n",
    "    \"surf_to_img_trans\": parse,\n",
    "    \"dist_img_to_surf_trans\": parse,\n",
    "    \"surf_to_dist_img_trans\": parse,\n",
    "}\n",
    "\n",
    "data = load_data(root_dir)\n",
    "participant_ids = [1,2,4,5,6,7,8,9,10,11,12,13,14,15,16,17,18,19,20]"
   ]
  },
  {
   "cell_type": "code",
   "execution_count": null,
   "metadata": {},
   "outputs": [],
   "source": [
    "# Pupil data\n",
    "columns = ['participant_id', 'pupil_timestamp', 'world_index', 'eye_id', 'confidence', 'diameter_3d', 'model_confidence']\n",
    "pupil_ddf = data['all_pupil_positions'].loc[:, columns].dropna()"
   ]
  },
  {
   "cell_type": "code",
   "execution_count": null,
   "metadata": {},
   "outputs": [],
   "source": [
    "# Blink data\n",
    "blink_ddf = data['all_blinks'].iloc[:, 1:]"
   ]
  },
  {
   "cell_type": "code",
   "execution_count": null,
   "metadata": {},
   "outputs": [],
   "source": [
    "# Gaze data\n",
    "gaze_ddf = data['all_gaze_positions'].iloc[:, 1:]"
   ]
  },
  {
   "cell_type": "code",
   "execution_count": 20,
   "metadata": {},
   "outputs": [],
   "source": [
    "# Fixation data\n",
    "fix_ddf = data['all_fixations'].iloc[:, 1:]"
   ]
  },
  {
   "cell_type": "code",
   "execution_count": null,
   "metadata": {},
   "outputs": [],
   "source": [
    "# Surface gaze data\n",
    "surf_gaze_ddf = data['all_gaze_positions_on_surface_HiDrive_Studie2'].iloc[:, 1:]"
   ]
  },
  {
   "cell_type": "code",
   "execution_count": 4,
   "metadata": {},
   "outputs": [],
   "source": [
    "# Surface fixation data\n",
    "surf_fix_ddf = data['all_fixations_on_surface_HiDrive_Studie2'].iloc[:, 1:]\n",
    "surf_fix_df = surf_fix_ddf.compute()\n",
    "surf_fix_df = surf_fix_df.groupby(['participant_id', 'fixation_id']).agg({\n",
    "    'world_timestamp': 'first',\n",
    "    'start_timestamp': 'first',\n",
    "    'duration': 'first',\n",
    "    'dispersion': 'first',\n",
    "    'norm_pos_x': 'first',\n",
    "    'norm_pos_y': 'first',\n",
    "    'x_scaled': 'first',\n",
    "    'y_scaled': 'first',\n",
    "    'on_surf': 'first',\n",
    "    'world_index': lambda x: list(x)  # Aggregate world_index into a list\n",
    "}).reset_index()\n",
    "\n",
    "# Rename the aggregated world_index column to world_indexes\n",
    "surf_fix_df = surf_fix_df.rename(columns={'world_index': 'world_indexes'})\n",
    "surf_fix_ddf = dd.from_pandas(surf_fix_df, npartitions=2)"
   ]
  },
  {
   "cell_type": "code",
   "execution_count": null,
   "metadata": {},
   "outputs": [],
   "source": [
    "# Surface position data\n",
    "surf_pos_df = data['all_surf_positions_HiDrive_Studie2'].iloc[:, 1:]"
   ]
  },
  {
   "cell_type": "markdown",
   "metadata": {},
   "source": [
    "### 1. Plan"
   ]
  },
  {
   "cell_type": "markdown",
   "metadata": {},
   "source": [
    "##### Pupil\n",
    "- Diameter_3d based on PupilLabs' physiological bounds: [1.0, 9.0] mm --> data loss ~.4%   (P08, P12 and P15 have higher losses ~1-2%)\n",
    "- NO low-confidence filtering --> blinks"
   ]
  },
  {
   "cell_type": "code",
   "execution_count": 25,
   "metadata": {},
   "outputs": [
    {
     "name": "stdout",
     "output_type": "stream",
     "text": [
      "Total length: 15950580\n",
      "Filtered length: 15882916\n",
      "Relative loss: 0.004242102795008029\n"
     ]
    }
   ],
   "source": [
    "# Total data loss\n",
    "pupil_ddf = pupil_ddf[['participant_id', 'diameter_3d']]\n",
    "filtered_pupil_ddf = pupil_ddf[(pupil_ddf['diameter_3d'] >= 1.0) & (pupil_ddf['diameter_3d'] <= 9.0)]\n",
    "total_length = pupil_ddf.shape[0].compute()\n",
    "filtered_length = filtered_pupil_ddf.shape[0].compute()\n",
    "relative_loss = filtered_length / total_length\n",
    "\n",
    "print(f\"Total length: {total_length}\")\n",
    "print(f\"Filtered length: {filtered_length}\")\n",
    "print(f\"Relative loss: {1-relative_loss}\")"
   ]
  },
  {
   "cell_type": "code",
   "execution_count": 26,
   "metadata": {},
   "outputs": [
    {
     "name": "stdout",
     "output_type": "stream",
     "text": [
      "        tot    filt       rel\n",
      "1   1000352  999763  0.000589\n",
      "2    758056  754849  0.004231\n",
      "4    762752  759583  0.004155\n",
      "5    913029  910378  0.002904\n",
      "6    805977  805269  0.000878\n",
      "7    790892  787003  0.004917\n",
      "8    793690  784676  0.011357\n",
      "9    803342  802430  0.001135\n",
      "10   816094  813565  0.003099\n",
      "11   801449  800992  0.000570\n",
      "12   801745  792195  0.011912\n",
      "13   907833  906996  0.000922\n",
      "14   857561  856108  0.001694\n",
      "15   814825  798977  0.019450\n",
      "16   928474  919657  0.009496\n",
      "17   801299  801133  0.000207\n",
      "18   890180  887831  0.002639\n",
      "19   834038  833535  0.000603\n",
      "20   868992  867976  0.001169\n"
     ]
    }
   ],
   "source": [
    "# Participants' data loss\n",
    "loss_details = {'tot': [], 'filt': [], 'rel': []}\n",
    "for pid in participant_ids:\n",
    "    p_pupil_ddf = pupil_ddf[pupil_ddf['participant_id'] == pid]\n",
    "    p_filtered_pupil_ddf = filtered_pupil_ddf[filtered_pupil_ddf['participant_id'] == pid]\n",
    "\n",
    "    total_len = p_pupil_ddf.shape[0].compute()\n",
    "    filtered_len = p_filtered_pupil_ddf.shape[0].compute()\n",
    "\n",
    "    loss_details['tot'].append(total_len)\n",
    "    loss_details['filt'].append(filtered_len)\n",
    "    loss_details['rel'].append(1- (filtered_len/total_len))\n",
    "\n",
    "loss_details_df = pd.DataFrame(loss_details, index=participant_ids)\n",
    "print(loss_details_df)"
   ]
  },
  {
   "cell_type": "markdown",
   "metadata": {},
   "source": [
    "##### Blink\n",
    "- Blink duration/confidence threshold --> (check data loss)\n",
    "- *(later) Long blink splitting"
   ]
  },
  {
   "cell_type": "code",
   "execution_count": 4,
   "metadata": {},
   "outputs": [
    {
     "ename": "NameError",
     "evalue": "name 'blink_ddf' is not defined",
     "output_type": "error",
     "traceback": [
      "\u001b[1;31m---------------------------------------------------------------------------\u001b[0m",
      "\u001b[1;31mNameError\u001b[0m                                 Traceback (most recent call last)",
      "Cell \u001b[1;32mIn[4], line 2\u001b[0m\n\u001b[0;32m      1\u001b[0m \u001b[38;5;66;03m# Confidence-duration correlation\u001b[39;00m\n\u001b[1;32m----> 2\u001b[0m blink_ddf \u001b[38;5;241m=\u001b[39m \u001b[43mblink_ddf\u001b[49m[[\u001b[38;5;124m'\u001b[39m\u001b[38;5;124mparticipant_id\u001b[39m\u001b[38;5;124m'\u001b[39m, \u001b[38;5;124m'\u001b[39m\u001b[38;5;124mconfidence\u001b[39m\u001b[38;5;124m'\u001b[39m, \u001b[38;5;124m'\u001b[39m\u001b[38;5;124mduration\u001b[39m\u001b[38;5;124m'\u001b[39m]]\n\u001b[0;32m      3\u001b[0m plt\u001b[38;5;241m.\u001b[39mfigure(figsize\u001b[38;5;241m=\u001b[39m(\u001b[38;5;241m8\u001b[39m, \u001b[38;5;241m4\u001b[39m))\n\u001b[0;32m      4\u001b[0m plt\u001b[38;5;241m.\u001b[39mscatter(blink_ddf[\u001b[38;5;124m'\u001b[39m\u001b[38;5;124mconfidence\u001b[39m\u001b[38;5;124m'\u001b[39m], blink_ddf[\u001b[38;5;124m'\u001b[39m\u001b[38;5;124mduration\u001b[39m\u001b[38;5;124m'\u001b[39m], s \u001b[38;5;241m=\u001b[39m\u001b[38;5;241m10\u001b[39m, alpha\u001b[38;5;241m=\u001b[39m\u001b[38;5;241m.2\u001b[39m)\n",
      "\u001b[1;31mNameError\u001b[0m: name 'blink_ddf' is not defined"
     ]
    }
   ],
   "source": [
    "# Confidence-duration correlation\n",
    "blink_ddf = blink_ddf[['participant_id', 'confidence', 'duration']]\n",
    "plt.figure(figsize=(8, 4))\n",
    "plt.scatter(blink_ddf['confidence'], blink_ddf['duration'], s =10, alpha=.2)\n",
    "plt.title(f'Correlation btw blink confidence and duration')\n",
    "plt.xlabel('confidence level')\n",
    "plt.ylabel('blink duration')\n",
    "plt.xlim(0,1)\n",
    "plt.ylim(-2,70)\n",
    "plt.show()"
   ]
  },
  {
   "cell_type": "code",
   "execution_count": 15,
   "metadata": {},
   "outputs": [
    {
     "name": "stdout",
     "output_type": "stream",
     "text": [
      "Total length:    8738\n",
      "Filtered length: 8318\n",
      "Relative loss:   0.04806591897459378\n"
     ]
    }
   ],
   "source": [
    "# Total data loss (conf>.05 & dur<2)\n",
    "# filtered_blink_ddf = blink_ddf[blink_ddf['confidence'] >= 0.05]\n",
    "# filtered_blink_ddf = blink_ddf[blink_ddf['duration'] <= 5.0]\n",
    "filtered_blink_ddf = blink_ddf[(blink_ddf['confidence'] >= .05) & (blink_ddf['duration'] <= 2.0)]\n",
    "total_length = blink_ddf.shape[0].compute()\n",
    "filtered_length = filtered_blink_ddf.shape[0].compute()\n",
    "relative_loss = filtered_length / total_length\n",
    "\n",
    "print(f\"Total length:    {total_length}\")\n",
    "print(f\"Filtered length: {filtered_length}\")\n",
    "print(f\"Relative loss:   {1-relative_loss}\")"
   ]
  },
  {
   "cell_type": "code",
   "execution_count": 50,
   "metadata": {},
   "outputs": [
    {
     "name": "stdout",
     "output_type": "stream",
     "text": [
      "     tot  filt       rel\n",
      "1    464   458  0.012931\n",
      "2    605   580  0.041322\n",
      "4   1065  1036  0.027230\n",
      "5   1066  1057  0.008443\n",
      "6    303   301  0.006601\n",
      "7    225   193  0.142222\n",
      "8    368   224  0.391304\n",
      "9    511   502  0.017613\n",
      "10   503   468  0.069583\n",
      "11   300   298  0.006667\n",
      "12   449   440  0.020045\n",
      "13   318   308  0.031447\n",
      "14   393   387  0.015267\n",
      "15   609   546  0.103448\n",
      "16   271   256  0.055351\n",
      "17    97    95  0.020619\n",
      "18   416   411  0.012019\n",
      "19   328   317  0.033537\n",
      "20   447   441  0.013423\n"
     ]
    }
   ],
   "source": [
    "# Participants' data loss\n",
    "loss_details = {'tot': [], 'filt': [], 'rel': []}\n",
    "for pid in participant_ids:\n",
    "    p_blink_ddf = blink_ddf[blink_ddf['participant_id'] == pid]\n",
    "    p_filtered_blink_ddf = filtered_blink_ddf[filtered_blink_ddf['participant_id'] == pid]\n",
    "\n",
    "    total_len = p_blink_ddf.shape[0].compute()\n",
    "    filtered_len = p_filtered_blink_ddf.shape[0].compute()\n",
    "\n",
    "    loss_details['tot'].append(total_len)\n",
    "    loss_details['filt'].append(filtered_len)\n",
    "    loss_details['rel'].append(1- (filtered_len/total_len))\n",
    "\n",
    "loss_details_df = pd.DataFrame(loss_details, index=participant_ids)\n",
    "print(loss_details_df)"
   ]
  },
  {
   "cell_type": "code",
   "execution_count": 24,
   "metadata": {},
   "outputs": [
    {
     "data": {
      "image/png": "[encoded data removed]",
      "text/plain": [
       "<Figure size 800x400 with 1 Axes>"
      ]
     },
     "metadata": {},
     "output_type": "display_data"
    }
   ],
   "source": [
    "# Confidence-duration correlation\n",
    "filtered_blink_ddf = filtered_blink_ddf[['participant_id', 'confidence', 'duration']]\n",
    "plt.figure(figsize=(8, 4))\n",
    "plt.scatter(filtered_blink_ddf['confidence'], filtered_blink_ddf['duration'], s =10, alpha=.2)\n",
    "plt.title(f'Correlation btw blink confidence and duration')\n",
    "plt.xlabel('confidence level')\n",
    "plt.ylabel('blink duration')\n",
    "plt.xlim(0,1)\n",
    "plt.ylim(-2,70)\n",
    "plt.show()"
   ]
  },
  {
   "cell_type": "code",
   "execution_count": 23,
   "metadata": {},
   "outputs": [
    {
     "data": {
      "image/png": "[encoded data removed]",
      "text/plain": [
       "<Figure size 800x400 with 1 Axes>"
      ]
     },
     "metadata": {},
     "output_type": "display_data"
    }
   ],
   "source": [
    "# Confidence-duration correlation\n",
    "filtered_blink_ddf = filtered_blink_ddf[['participant_id', 'confidence', 'duration']]\n",
    "plt.figure(figsize=(8, 4))\n",
    "plt.scatter(filtered_blink_ddf['confidence'], filtered_blink_ddf['duration'], s =10, alpha=.2)\n",
    "plt.title(f'Correlation btw blink confidence and duration')\n",
    "plt.xlabel('confidence level')\n",
    "plt.ylabel('blink duration')\n",
    "plt.xlim(0,1)\n",
    "# plt.ylim(-2,70)\n",
    "plt.show()"
   ]
  },
  {
   "cell_type": "markdown",
   "metadata": {},
   "source": [
    "##### Gaze\n",
    "- NO confidence filtering --> derives from pupil\n",
    "- (position filtering on surface data)"
   ]
  },
  {
   "cell_type": "markdown",
   "metadata": {},
   "source": [
    "##### Fixation\n",
    "- Set duration to 220 ms for values slightly exceeding (1e-10) --> 81 values\n",
    "- longer ones --> reset within 250ms (2) and discard others (6)\n",
    "- NO confidence filtering --> derived from gaze\n",
    "- (position filtering on surface data)"
   ]
  },
  {
   "cell_type": "code",
   "execution_count": 81,
   "metadata": {},
   "outputs": [
    {
     "name": "stdout",
     "output_type": "stream",
     "text": [
      "8\n"
     ]
    },
    {
     "data": {
      "text/plain": [
       "[22.9550000233576,\n",
       " 48.01400000022119,\n",
       " 168.7624999988475,\n",
       " 10.740000000878354,\n",
       " 73.99000000012165,\n",
       " 55.91200001188554,\n",
       " 98.3130000106757,\n",
       " 45.07399999536574]"
      ]
     },
     "execution_count": 81,
     "metadata": {},
     "output_type": "execute_result"
    }
   ],
   "source": [
    "long_fix = fix_ddf[fix_ddf['duration'] > 220.1]['duration']\n",
    "long_fix_diff = [(fix - 220) for fix in long_fix]\n",
    "print(len(long_fix_diff))\n",
    "long_fix_diff"
   ]
  },
  {
   "cell_type": "markdown",
   "metadata": {},
   "source": [
    "##### Surface Gaze\n",
    "- Positions within -.5 and 1.5 (.5 margins) --> data loss ~2%   (P13 and P19 have higher losses ~5-7%)\n",
    "- NO confidence filtering --> derived from gaze\n",
    "- *(later) P11 position adjustment"
   ]
  },
  {
   "cell_type": "code",
   "execution_count": 85,
   "metadata": {},
   "outputs": [
    {
     "name": "stdout",
     "output_type": "stream",
     "text": [
      "Total length: 15811255\n",
      "Filtered length: 15464249\n",
      "Relative loss: 0.021946771461215486\n"
     ]
    }
   ],
   "source": [
    "# Total data loss\n",
    "surf_gaze_ddf = surf_gaze_ddf[['participant_id', 'x_norm', 'y_norm']]\n",
    "filtered_surf_gaze_ddf = surf_gaze_ddf[(surf_gaze_ddf['x_norm'] >= -.5) & (surf_gaze_ddf['x_norm'] <= 1.5) & (surf_gaze_ddf['y_norm'] >= -.5) & (surf_gaze_ddf['y_norm'] <= 1.5)]\n",
    "total_length = surf_gaze_ddf.shape[0].compute()\n",
    "filtered_length = filtered_surf_gaze_ddf.shape[0].compute()\n",
    "relative_loss = filtered_length / total_length\n",
    "\n",
    "print(f\"Total length: {total_length}\")\n",
    "print(f\"Filtered length: {filtered_length}\")\n",
    "print(f\"Relative loss: {1-relative_loss}\")"
   ]
  },
  {
   "cell_type": "code",
   "execution_count": 86,
   "metadata": {},
   "outputs": [
    {
     "name": "stdout",
     "output_type": "stream",
     "text": [
      "       tot    filt       rel\n",
      "1   988306  967395  0.021158\n",
      "2   753748  741966  0.015631\n",
      "4   762344  754890  0.009778\n",
      "5   888485  876712  0.013251\n",
      "6   800324  783432  0.021106\n",
      "7   788343  776731  0.014730\n",
      "8   792674  770532  0.027933\n",
      "9   788731  771273  0.022134\n",
      "10  811566  789775  0.026851\n",
      "11  799641  792994  0.008312\n",
      "12  799830  785741  0.017615\n",
      "13  892755  828778  0.071662\n",
      "14  857693  853003  0.005468\n",
      "15  813488  795069  0.022642\n",
      "16  928190  911639  0.017831\n",
      "17  800538  794478  0.007570\n",
      "18  887190  876861  0.011642\n",
      "19  790447  745825  0.056452\n",
      "20  866962  847155  0.022846\n"
     ]
    }
   ],
   "source": [
    "# Participants' data loss\n",
    "loss_details = {'tot': [], 'filt': [], 'rel': []}\n",
    "for pid in participant_ids:\n",
    "    p_surf_gaze_ddf = surf_gaze_ddf[surf_gaze_ddf['participant_id'] == pid]\n",
    "    p_filtered_surf_gaze_ddf = filtered_surf_gaze_ddf[filtered_surf_gaze_ddf['participant_id'] == pid]\n",
    "\n",
    "    total_len = p_surf_gaze_ddf.shape[0].compute()\n",
    "    filtered_len = p_filtered_surf_gaze_ddf.shape[0].compute()\n",
    "\n",
    "    loss_details['tot'].append(total_len)\n",
    "    loss_details['filt'].append(filtered_len)\n",
    "    loss_details['rel'].append(1- (filtered_len/total_len))\n",
    "\n",
    "loss_details_df = pd.DataFrame(loss_details, index=participant_ids)\n",
    "print(loss_details_df)"
   ]
  },
  {
   "cell_type": "markdown",
   "metadata": {},
   "source": [
    "##### Surface Fixation\n",
    "- Fixation max duration setting to 220ms (same as before)\n",
    "- Positions within -.5 and 1.5 (.5 margins) --> data loss ~1.5%   (P01, P08, P09, P10 and P15, P20 with high losses ~1-2%; P13 and P19 have even higher losses ~5-6%)\n",
    "- *(later) P11 position adjustment"
   ]
  },
  {
   "cell_type": "code",
   "execution_count": 93,
   "metadata": {},
   "outputs": [
    {
     "name": "stdout",
     "output_type": "stream",
     "text": [
      "8\n"
     ]
    },
    {
     "data": {
      "text/plain": [
       "[22.9550000233576,\n",
       " 48.01400000022119,\n",
       " 168.7624999988475,\n",
       " 10.740000000878354,\n",
       " 73.99000000012165,\n",
       " 55.91200001188554,\n",
       " 98.3130000106757,\n",
       " 45.07399999536574]"
      ]
     },
     "execution_count": 93,
     "metadata": {},
     "output_type": "execute_result"
    }
   ],
   "source": [
    "# Fixation re-setting\n",
    "surf_fix_ddf = surf_fix_ddf[['participant_id', 'duration', 'norm_pos_x', 'norm_pos_y']]\n",
    "long_fix = surf_fix_ddf[surf_fix_ddf['duration'] > 220.1]['duration']\n",
    "long_fix_diff = [(fix - 220) for fix in long_fix]\n",
    "print(len(long_fix_diff))\n",
    "long_fix_diff"
   ]
  },
  {
   "cell_type": "code",
   "execution_count": 94,
   "metadata": {},
   "outputs": [
    {
     "name": "stdout",
     "output_type": "stream",
     "text": [
      "Total length: 315781\n",
      "Filtered length: 311203\n",
      "Relative loss: 0.01449738901327191\n"
     ]
    }
   ],
   "source": [
    "# Total data loss\n",
    "filtered_surf_fix_ddf = surf_fix_ddf[(surf_fix_ddf['norm_pos_x'] >= -.5) & (surf_fix_ddf['norm_pos_x'] <= 1.5) & (surf_fix_ddf['norm_pos_y'] >= -.5) & (surf_fix_ddf['norm_pos_y'] <= 1.5)]\n",
    "total_length = surf_fix_ddf.shape[0].compute()\n",
    "filtered_length = filtered_surf_fix_ddf.shape[0].compute()\n",
    "relative_loss = filtered_length / total_length\n",
    "\n",
    "print(f\"Total length: {total_length}\")\n",
    "print(f\"Filtered length: {filtered_length}\")\n",
    "print(f\"Relative loss: {1-relative_loss}\")"
   ]
  },
  {
   "cell_type": "code",
   "execution_count": 95,
   "metadata": {},
   "outputs": [
    {
     "name": "stdout",
     "output_type": "stream",
     "text": [
      "      tot   filt       rel\n",
      "1   20169  19808  0.017899\n",
      "2   15606  15549  0.003652\n",
      "4   14948  14925  0.001539\n",
      "5   17265  17111  0.008920\n",
      "6   16101  15801  0.018632\n",
      "7   15259  15234  0.001638\n",
      "8   12816  12803  0.001014\n",
      "9   16152  15887  0.016407\n",
      "10  15914  15584  0.020736\n",
      "11  15987  15914  0.004566\n",
      "12  16539  16458  0.004898\n",
      "13  18577  17304  0.068526\n",
      "14  17743  17735  0.000451\n",
      "15  15489  15323  0.010717\n",
      "16  18307  18246  0.003332\n",
      "17  17028  16910  0.006930\n",
      "18  17270  17140  0.007528\n",
      "19  16545  15732  0.049139\n",
      "20  18066  17739  0.018100\n"
     ]
    }
   ],
   "source": [
    "# Participants' data loss\n",
    "loss_details = {'tot': [], 'filt': [], 'rel': []}\n",
    "for pid in participant_ids:\n",
    "    p_surf_fix_ddf = surf_fix_ddf[surf_fix_ddf['participant_id'] == pid]\n",
    "    p_filtered_surf_fix_ddf = filtered_surf_fix_ddf[filtered_surf_fix_ddf['participant_id'] == pid]\n",
    "\n",
    "    total_len = p_surf_fix_ddf.shape[0].compute()\n",
    "    filtered_len = p_filtered_surf_fix_ddf.shape[0].compute()\n",
    "\n",
    "    loss_details['tot'].append(total_len)\n",
    "    loss_details['filt'].append(filtered_len)\n",
    "    loss_details['rel'].append(1- (filtered_len/total_len))\n",
    "\n",
    "loss_details_df = pd.DataFrame(loss_details, index=participant_ids)\n",
    "print(loss_details_df)"
   ]
  },
  {
   "cell_type": "markdown",
   "metadata": {},
   "source": [
    "### 2. Simple cleaning\n",
    "- Pupil 3d diameter, Blink confidence/duration, Fixation duration, Surface gaze positions, Surface Fixation duration and position\n",
    "- Feature selection"
   ]
  },
  {
   "cell_type": "code",
   "execution_count": 12,
   "metadata": {},
   "outputs": [],
   "source": [
    "# Diameter 3d within [1.0, 9.0] mm\n",
    "feature_filter = ['participant_id', 'pupil_timestamp', 'world_index', 'eye_id', 'confidence', 'diameter_3d', 'model_confidence']\n",
    "filtered_pupil_ddf = pupil_ddf.query('diameter_3d >= 1.0 and diameter_3d <= 9.0')[feature_filter]"
   ]
  },
  {
   "cell_type": "code",
   "execution_count": 8,
   "metadata": {},
   "outputs": [],
   "source": [
    "# Blink confidence >= 1.0, duration <= 2.0\n",
    "feature_filter = ['participant_id', 'id', 'start_timestamp', 'duration', 'end_timestamp', 'start_frame_index', 'index', 'end_frame_index', 'confidence']\n",
    "filtered_blink_ddf = blink_ddf.query('confidence >= 0.05 and duration <= 2.0')[feature_filter]"
   ]
  },
  {
   "cell_type": "code",
   "execution_count": 44,
   "metadata": {},
   "outputs": [],
   "source": [
    "# Gaze (only feature selection)\n",
    "feature_filter = ['participant_id', 'gaze_timestamp', 'world_index', 'confidence', 'norm_pos_x', 'norm_pos_y']\n",
    "filtered_gaze_ddf = gaze_ddf[feature_filter]"
   ]
  },
  {
   "cell_type": "code",
   "execution_count": 21,
   "metadata": {},
   "outputs": [],
   "source": [
    "# Fixation long duration set to 220 if <250\n",
    "feature_filter = ['participant_id', 'id', 'start_timestamp', 'duration', 'start_frame_index', 'end_frame_index', 'norm_pos_x', 'norm_pos_y', 'dispersion', 'confidence']\n",
    "filtered_fix_ddf = fix_ddf.assign(\n",
    "    duration=fix_ddf['duration'].apply(lambda x: 220 if 220 < x < 250 else x, meta=('duration', 'float64'))\n",
    ").query('duration <= 220')[feature_filter]"
   ]
  },
  {
   "cell_type": "code",
   "execution_count": 57,
   "metadata": {},
   "outputs": [],
   "source": [
    "# Surface gaze position within [-.5, 1.5]\n",
    "feature_filter = ['participant_id', 'world_timestamp', 'world_index', 'gaze_timestamp', 'x_norm', 'y_norm', 'on_surf', 'confidence']\n",
    "filtered_surf_gaze_ddf = surf_gaze_ddf.query('x_norm >= -0.5 and x_norm <= 1.5 and y_norm >= -0.5 and y_norm <= 1.5')[feature_filter]"
   ]
  },
  {
   "cell_type": "code",
   "execution_count": 5,
   "metadata": {},
   "outputs": [],
   "source": [
    "# Surface fixation duration set to 220 if <250, position within [-.5, 1.5]\n",
    "feature_filter = ['participant_id', 'world_timestamp', 'fixation_id', 'start_timestamp', 'duration', 'dispersion', 'norm_pos_x', 'norm_pos_y', 'dispersion', 'on_surf', 'world_indexes']\n",
    "filtered_surf_fix_ddf = surf_fix_ddf.assign(\n",
    "    duration=surf_fix_ddf['duration'].apply(lambda x: 220 if 220 < x < 250 else x, meta=('duration', 'float64'))\n",
    ").query('norm_pos_x >= -0.5 and norm_pos_x <= 1.5 and norm_pos_y >= -0.5 and norm_pos_y <= 1.5 and duration <= 220')[feature_filter]"
   ]
  },
  {
   "cell_type": "code",
   "execution_count": 71,
   "metadata": {},
   "outputs": [],
   "source": [
    "# Surface position (only feature selection)\n",
    "feature_filter = ['participant_id', 'world_index', 'world_timestamp', 'img_to_surf_trans', 'surf_to_img_trans', 'num_detected_markers']\n",
    "filtered_surf_pos_df = surf_pos_df[feature_filter]"
   ]
  },
  {
   "cell_type": "markdown",
   "metadata": {},
   "source": [
    "### 3. Advanced cleaning\n",
    "- Long blinks splitting, P11 surface position adjustment"
   ]
  },
  {
   "cell_type": "markdown",
   "metadata": {},
   "source": [
    "##### Long blinks splitting\n",
    "- (...)"
   ]
  },
  {
   "cell_type": "code",
   "execution_count": null,
   "metadata": {},
   "outputs": [],
   "source": []
  },
  {
   "cell_type": "markdown",
   "metadata": {},
   "source": [
    "##### P11 surface position adjustment\n",
    "- (...)"
   ]
  },
  {
   "cell_type": "code",
   "execution_count": null,
   "metadata": {},
   "outputs": [],
   "source": []
  },
  {
   "cell_type": "markdown",
   "metadata": {},
   "source": [
    "### 4. Smoothing (?)\n",
    "- (...)"
   ]
  },
  {
   "cell_type": "markdown",
   "metadata": {},
   "source": [
    "### 5. File creation (.csv)"
   ]
  },
  {
   "cell_type": "code",
   "execution_count": 6,
   "metadata": {},
   "outputs": [],
   "source": [
    "def create_csv (df, file_name, dask=True):\n",
    "    if dask:\n",
    "        df.to_csv(os.path.join('./cleaned_data', f'{file_name}.csv'), single_file=True)\n",
    "    else:\n",
    "        df.to_csv(os.path.join('./cleaned_data', f'{file_name}.csv'))"
   ]
  },
  {
   "cell_type": "code",
   "execution_count": 7,
   "metadata": {},
   "outputs": [],
   "source": [
    "# Create files\n",
    "# create_csv(filtered_pupil_ddf, 'pupil')\n",
    "# create_csv(filtered_blink_ddf, 'blink')\n",
    "# create_csv(filtered_gaze_ddf, 'gaze')\n",
    "# create_csv(filtered_fix_ddf, 'fixation')\n",
    "# create_csv(filtered_surf_gaze_ddf, 'surf_gaze')\n",
    "# create_csv(filtered_surf_fix_ddf, 'surf_fixation')\n",
    "# create_csv(filtered_surf_pos_df, 'surf_position', dask=False)"
   ]
  },
  {
   "cell_type": "markdown",
   "metadata": {},
   "source": [
    "### 6. (new) Data Loading"
   ]
  },
  {
   "cell_type": "code",
   "execution_count": 8,
   "metadata": {},
   "outputs": [],
   "source": [
    "# Load CLEANED ddfs into dictionary (exception for 'surf_position' as a df)\n",
    "root_dir = './cleaned_data'\n",
    "def load_cleaned_data(root_dir, exception=True): # Get csv file reads into one dictionary\n",
    "    data = {}\n",
    "    for file in os.listdir(root_dir):\n",
    "        file_path = os.path.join(root_dir, file)\n",
    "        file_name = os.path.splitext(file)[0]  # file name without '.csv'\n",
    "        if file.endswith('.csv') and file != 'surf_position.csv':\n",
    "            data[file_name] = dd.read_csv(file_path)  # read and attach to dict\n",
    "        elif exception and file == 'surf_position.csv':\n",
    "            data[file_name] = pd.read_csv(file_path, converters=converters)  # read as normal and attach to dict\n",
    "    return data\n",
    "def parse(filedata):\n",
    "    for line in filedata.split('\\n'): \n",
    "        line = line.strip()\n",
    "        if not line:\n",
    "            continue  # skip empty lines\n",
    "        row = ast.literal_eval(line) # evaluate the str into obj\n",
    "    return row\n",
    "converters = {\n",
    "    \"img_to_surf_trans\": parse,\n",
    "    \"surf_to_img_trans\": parse,\n",
    "}\n",
    "\n",
    "cleaned_data = load_cleaned_data(root_dir)\n",
    "participant_ids = [1,2,4,5,6,7,8,9,10,11,12,13,14,15,16,17,18,19,20]"
   ]
  },
  {
   "cell_type": "markdown",
   "metadata": {},
   "source": [
    "### 7. Unix Timestamps"
   ]
  },
  {
   "cell_type": "markdown",
   "metadata": {},
   "source": [
    "##### Conversion parameter"
   ]
  },
  {
   "cell_type": "code",
   "execution_count": 9,
   "metadata": {},
   "outputs": [
    {
     "data": {
      "text/plain": [
       "{1: 1710995923.0638132,\n",
       " 2: 1710995923.0869443,\n",
       " 4: 1710995922.0329595,\n",
       " 5: 1710995922.054,\n",
       " 6: 1710422800.0617552,\n",
       " 7: 1710422798.8454993,\n",
       " 8: 1710837270.471259,\n",
       " 9: 1710837270.4714973,\n",
       " 10: 1711015966.974017,\n",
       " 11: 1711015966.8716204,\n",
       " 12: 1711015966.3487737,\n",
       " 13: 1711015966.4835043,\n",
       " 14: 1711015966.4888632,\n",
       " 15: 1711377444.7161496,\n",
       " 16: 1711377443.4752297,\n",
       " 17: 1711527764.3984728,\n",
       " 18: 1711545871.2865818,\n",
       " 19: 1711545870.2516506,\n",
       " 20: 1711545870.261577}"
      ]
     },
     "execution_count": 9,
     "metadata": {},
     "output_type": "execute_result"
    }
   ],
   "source": [
    "# Get unix offsets per participant\n",
    "json_names = {\n",
    "    1: 'p01',\n",
    "    2: 'p02',\n",
    "    3: '-',\n",
    "    4: 'p04',\n",
    "    5: 'p05',\n",
    "    6: 'p06',\n",
    "    7: 'p07',\n",
    "    8: 'p08',\n",
    "    9: 'p09',\n",
    "    10: 'p10',\n",
    "    11: 'p11',\n",
    "    12: 'p12',\n",
    "    13: 'p13',\n",
    "    14: 'p14',\n",
    "    15: 'p15',\n",
    "    16: 'p16',\n",
    "    17: 'p17',\n",
    "    18: 'p18',\n",
    "    19: 'p19',\n",
    "    20: 'p20',\n",
    "}\n",
    "unix_offset = {\n",
    "      1: 0.0,\n",
    "      2: 0.0,\n",
    "      4: 0.0,\n",
    "      5: 0.0,\n",
    "      6: 0.0,\n",
    "      7: 0.0,\n",
    "      8: 0.0,\n",
    "      9: 0.0,\n",
    "      10: 0.0,\n",
    "      11: 0.0,\n",
    "      12: 0.0,\n",
    "      13: 0.0,\n",
    "      14: 0.0,\n",
    "      15: 0.0,\n",
    "      16: 0.0,\n",
    "      17: 0.0,\n",
    "      18: 0.0,\n",
    "      19: 0.0,\n",
    "      20: 0.0,\n",
    "}\n",
    "\n",
    "for pid in participant_ids:\n",
    "    with open(f\"./info_players/{json_names[pid]}.json\") as file:\n",
    "            meta_info = json.load(file)\n",
    "    start_timestamp_diff = meta_info[\"start_time_system_s\"] - meta_info[\"start_time_synced_s\"]\n",
    "    unix_offset[pid] = start_timestamp_diff\n",
    "\n",
    "unix_offset"
   ]
  },
  {
   "cell_type": "markdown",
   "metadata": {},
   "source": [
    "##### Conversion computation"
   ]
  },
  {
   "cell_type": "code",
   "execution_count": 10,
   "metadata": {},
   "outputs": [
    {
     "name": "stdout",
     "output_type": "stream",
     "text": [
      "Computing 'surf_fixation'...\n",
      "Computed surf_fixation\n",
      "Exporting surf_fixation in ./cleaned_data_unix\\surf_fixation.csv\n",
      "Exported surf_fixation\n"
     ]
    }
   ],
   "source": [
    "# Run\n",
    "dfs_info = {\n",
    "    # \"blink\": [\"start_timestamp\", \"end_timestamp\"],\n",
    "    # \"fixation\": [\"start_timestamp\"],\n",
    "    # \"gaze\": [\"gaze_timestamp\"],\n",
    "    # \"pupil\": [\"pupil_timestamp\"],\n",
    "    # \"world_timestamps\": [\"# timestamps [seconds]\"],\n",
    "    # \"surf_fixation\": [\"world_timestamp\", \"start_timestamp\"],\n",
    "    # \"surf_gaze\": [\"world_timestamp\", \"gaze_timestamp\"],\n",
    "    # \"surf_position\": [\"world_timestamp\"],\n",
    "}\n",
    "\n",
    "output_dir = \"./cleaned_data_unix\"\n",
    "os.makedirs(output_dir, exist_ok=True)\n",
    "# warnings.filterwarnings(\"ignore\", category=pd.errors.SettingWithCopyWarning)\n",
    "warnings.filterwarnings(\"ignore\", category=UserWarning)\n",
    "\n",
    "for file_name, timestamp_columns in dfs_info.items():\n",
    "    print(f\"Computing '{file_name}'...\")\n",
    "    ddf = cleaned_data[file_name]\n",
    "    participant_ddfs = []\n",
    "    \n",
    "    for pid in participant_ids:\n",
    "        participant_offset = unix_offset[pid]\n",
    "        ddf_participant = ddf[ddf['participant_id'] == pid]\n",
    "        \n",
    "        for col in timestamp_columns:\n",
    "            unix_col_name = f\"{col}_unix\"\n",
    "            datetime_col_name = f\"{col}_dt\"\n",
    "            \n",
    "            # Calculate the Unix timestamp and datetime\n",
    "            ddf_participant[unix_col_name] = ddf_participant[col] + participant_offset\n",
    "            if file_name == \"surf_position\":\n",
    "                ddf_participant[datetime_col_name] = pd.to_datetime(ddf_participant[unix_col_name], unit='s')\n",
    "            else:\n",
    "                ddf_participant[datetime_col_name] = dd.to_datetime(ddf_participant[unix_col_name], unit='s')\n",
    "            ddf_participant[datetime_col_name] = ddf_participant[datetime_col_name].dt.tz_localize('UTC')\n",
    "            ddf_participant[datetime_col_name] = ddf_participant[datetime_col_name].dt.tz_convert('Europe/Berlin')\n",
    "\n",
    "        # Collect the processed dataframe for this participant\n",
    "        participant_ddfs.append(ddf_participant)\n",
    "    \n",
    "    # Concatenate and compute result\n",
    "    if file_name == \"surf_position\":\n",
    "        result_df = pd.concat(participant_ddfs)\n",
    "    else:\n",
    "        result_ddf = dd.concat(participant_ddfs)\n",
    "        result_df = result_ddf.compute()\n",
    "    print(f\"Computed {file_name}\")\n",
    "\n",
    "    # Export as .csv\n",
    "    output_file_path = os.path.join(output_dir, f\"{file_name}.csv\")\n",
    "    print(f\"Exporting {file_name} in {output_file_path}\")\n",
    "    result_df.to_csv(output_file_path, index=False)\n",
    "\n",
    "    print(f\"Exported {file_name}\")"
   ]
  }
 ],
 "metadata": {
  "kernelspec": {
   "display_name": "Python 3",
   "language": "python",
   "name": "python3"
  },
  "language_info": {
   "codemirror_mode": {
    "name": "ipython",
    "version": 3
   },
   "file_extension": ".py",
   "mimetype": "text/x-python",
   "name": "python",
   "nbconvert_exporter": "python",
   "pygments_lexer": "ipython3",
   "version": "3.9.6"
  }
 },
 "nbformat": 4,
 "nbformat_minor": 2
}
